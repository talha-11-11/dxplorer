{
 "cells": [
  {
   "cell_type": "code",
   "execution_count": null,
   "id": "c8fe8ebb",
   "metadata": {},
   "outputs": [],
   "source": [
    "from dxplorer.report import generate_report\n",
    "from dxplorer.visualizer import plot_missing_heatmap, plot_distributions\n",
    "from dxplorer.core import DataProfiler\n",
    "from dxplorer.impute import suggest_imputation\n",
    "\n",
    "import seaborn as sns\n",
    "\n",
    "df = sns.load_dataset(\"titanic\")\n",
    "\n",
    "# Run profiler\n",
    "profiler = DataProfiler(df)\n",
    "print(profiler.get_missing_summary())\n",
    "\n",
    "# Generate report\n",
    "report = generate_report(df)\n",
    "print(report)\n",
    "\n",
    "# Visualize\n",
    "plot_missing_heatmap(df)\n",
    "plot_distributions(df)\n",
    "\n",
    "# Imputation suggestions\n",
    "print(suggest_imputation(df))"
   ]
  }
 ],
 "metadata": {
  "language_info": {
   "name": "python"
  }
 },
 "nbformat": 4,
 "nbformat_minor": 5
}
